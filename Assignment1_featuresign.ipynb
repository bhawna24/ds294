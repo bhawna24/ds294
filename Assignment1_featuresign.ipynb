{
 "cells": [
  {
   "cell_type": "code",
   "execution_count": 19,
   "metadata": {},
   "outputs": [],
   "source": [
    "import numpy as np"
   ]
  },
  {
   "cell_type": "code",
   "execution_count": 22,
   "metadata": {},
   "outputs": [],
   "source": [
    "def my_feature_sign(S, y, bound):\n",
    "    count1 = 1\n",
    "    count2 = 0\n",
    "    tmp = np.dot(S.T, S)\n",
    "    theta = np.zeros(tmp.shape[0], dtype=np.int8)\n",
    "    x = np.zeros(tmp.shape[0])\n",
    "    STy = np.dot(S.T, y)\n",
    "    grad = -2 * STy\n",
    "    now_active = set()\n",
    "    y2 = np.dot(y.T, y)\n",
    "    \n",
    "    done = 0\n",
    "    while not done:\n",
    "        if count2<1:\n",
    "            tmpx = np.argmax(np.abs(grad)*(theta==0))\n",
    "            if grad[tmpx] > bound:\n",
    "                theta[tmpx] = -1\n",
    "                now_active.add(tmpx)\n",
    "            elif grad[tmpx] < -bound:\n",
    "                theta[tmpx] = 1\n",
    "                now_active.add(tmpx)\n",
    "            \n",
    "        index = np.array(sorted(now_active))\n",
    "        tmp_H = tmp[np.ix_(index, index)]\n",
    "        tmp_Sy = STy[index]\n",
    "        thetaHat = theta[index]\n",
    "        b = tmp_Sy-(bound*thetaHat)/2\n",
    "        x_H = np.linalg.solve(np.atleast_2d(tmp_H), b)\n",
    "        thetaNew = np.sign(x_H)\n",
    "        oldx = x[index]\n",
    "        changed = np.where(abs(thetaNew - thetaHat) > 1)[0]\n",
    "        if len(changed) > 0:\n",
    "            xb = x_H\n",
    "            Sx2 = np.dot(x_H, np.dot(tmp_Sy,x_H))\n",
    "            ab = np.dot(x_H, tmp_Sy)\n",
    "            obj = (y2 + Sx2- 2 * ab + bound*abs(x_H).sum())\n",
    "            for elem in changed:\n",
    "                x = x_H[elem]\n",
    "                y = oldx[elem]\n",
    "                prop = y / (y - x)\n",
    "                now = oldx - prop * (oldx - x_H)\n",
    "                tmp1 = np.dot(now, np.dot(tmp_H, now))\n",
    "                tmp2 = np.dot(now, tmp_Sy)\n",
    "                costnow = y2 + (tmp1-2*tmp2+ bound*abs(now).sum())\n",
    "                if costnow < obj:\n",
    "                    obj = costnow\n",
    "                    best_prop = prop\n",
    "                    xb = now\n",
    "        else:\n",
    "            xb = x_H\n",
    "        x[index] = xb\n",
    "        index_zeros = index[np.abs(x[index]) < 1e-18]\n",
    "        x[index_zeros] = 0.\n",
    "        theta[index] = np.int8(np.sign(x[index]))\n",
    "        now_active.difference_update(index_zeros)\n",
    "        grad = - 2 * STy + 2 * np.dot(tmp, x)\n",
    "        tmp_res = np.max(abs(grad[theta == 0]))\n",
    "        #tmp_res=np.inf\n",
    "        ntmp_res = np.max(abs(grad[theta != 0] + bound * theta[theta != 0]))\n",
    "        \n",
    "        if tmp_res > bound:\n",
    "            count1=1\n",
    "        else:\n",
    "            count1=0\n",
    "            \n",
    "        if not np.allclose(ntmp_res,0):\n",
    "            count2=1\n",
    "        else:\n",
    "            count2=0\n",
    "        if count1+count2:\n",
    "            done=0\n",
    "        else:\n",
    "            done = 1\n",
    "    return x"
   ]
  },
  {
   "cell_type": "code",
   "execution_count": 24,
   "metadata": {},
   "outputs": [
    {
     "data": {
      "text/plain": [
       "array([3.75, 5.75, 1.75, 2.75, 0.  , 0.  ])"
      ]
     },
     "execution_count": 24,
     "metadata": {},
     "output_type": "execute_result"
    }
   ],
   "source": [
    "S = np.array([[1,0,0,0,0,0],[0,1,0,0,0,0],[0,0,1,0,1,0],[0,0,0,1,0,1]])\n",
    "\n",
    "bound= 0.5\n",
    "y = np.array([4,6,2,3])\n",
    "\n",
    "x = my_feature_sign(S, y, bound)\n",
    "x\n",
    "\n"
   ]
  },
  {
   "cell_type": "code",
   "execution_count": 30,
   "metadata": {},
   "outputs": [
    {
     "data": {
      "text/plain": [
       "array([3.85, 5.85, 1.85, 2.85, 0.  , 0.  ])"
      ]
     },
     "execution_count": 30,
     "metadata": {},
     "output_type": "execute_result"
    }
   ],
   "source": [
    "S = np.array([[1,0,0,0,0,0],[0,1,0,0,0,0],[0,0,1,0,1,0],[0,0,0,1,0,1]])\n",
    "\n",
    "bound= 0.3\n",
    "y = np.array([4,6,2,3])\n",
    "\n",
    "x = my_feature_sign(S, y, bound)\n",
    "x"
   ]
  },
  {
   "cell_type": "code",
   "execution_count": null,
   "metadata": {},
   "outputs": [],
   "source": []
  },
  {
   "cell_type": "code",
   "execution_count": null,
   "metadata": {},
   "outputs": [],
   "source": []
  }
 ],
 "metadata": {
  "kernelspec": {
   "display_name": "Python 2",
   "language": "python",
   "name": "python2"
  },
  "language_info": {
   "codemirror_mode": {
    "name": "ipython",
    "version": 2
   },
   "file_extension": ".py",
   "mimetype": "text/x-python",
   "name": "python",
   "nbconvert_exporter": "python",
   "pygments_lexer": "ipython2",
   "version": "2.7.12"
  }
 },
 "nbformat": 4,
 "nbformat_minor": 2
}
